{
  "cells": [
    {
      "cell_type": "code",
      "execution_count": 1,
      "metadata": {
        "colab": {
          "base_uri": "https://localhost:8080/",
          "height": 364
        },
        "colab_type": "code",
        "id": "sOqL-ERxwMDz",
        "outputId": "736237e4-5772-4a0a-d628-eca21a883317"
      },
      "outputs": [
        {
          "name": "stdout",
          "output_type": "stream",
          "text": [
            "Fri Dec  2 14:33:43 2022       \n",
            "+-----------------------------------------------------------------------------+\n",
            "| NVIDIA-SMI 516.94       Driver Version: 516.94       CUDA Version: 11.7     |\n",
            "|-------------------------------+----------------------+----------------------+\n",
            "| GPU  Name            TCC/WDDM | Bus-Id        Disp.A | Volatile Uncorr. ECC |\n",
            "| Fan  Temp  Perf  Pwr:Usage/Cap|         Memory-Usage | GPU-Util  Compute M. |\n",
            "|                               |                      |               MIG M. |\n",
            "|===============================+======================+======================|\n",
            "|   0  NVIDIA GeForce ... WDDM  | 00000000:01:00.0 Off |                  N/A |\n",
            "| N/A   57C    P0    25W /  N/A |      0MiB / 16384MiB |      0%      Default |\n",
            "|                               |                      |                  N/A |\n",
            "+-------------------------------+----------------------+----------------------+\n",
            "                                                                               \n",
            "+-----------------------------------------------------------------------------+\n",
            "| Processes:                                                                  |\n",
            "|  GPU   GI   CI        PID   Type   Process name                  GPU Memory |\n",
            "|        ID   ID                                                   Usage      |\n",
            "|=============================================================================|\n",
            "|  No running processes found                                                 |\n",
            "+-----------------------------------------------------------------------------+\n"
          ]
        }
      ],
      "source": [
        "# GPU 정보 \n",
        "!nvidia-smi"
      ]
    },
    {
      "cell_type": "code",
      "execution_count": null,
      "metadata": {
        "colab": {
          "base_uri": "https://localhost:8080/",
          "height": 208
        },
        "colab_type": "code",
        "id": "P8W3gZk2ijYN",
        "outputId": "bc4ee445-1bf3-4af2-c433-375634918c7c"
      },
      "outputs": [],
      "source": [
        "# KoGPT2-chatbot 소스 코드 복사\n",
        "!git clone --recurse-submodules https://github.com/haven-jeon/KoGPT2-chatbot.git"
      ]
    },
    {
      "cell_type": "code",
      "execution_count": 15,
      "metadata": {
        "colab": {
          "base_uri": "https://localhost:8080/",
          "height": 34
        },
        "colab_type": "code",
        "id": "e9ZweKmXiuaK",
        "outputId": "6cc6ce8b-105b-4f39-b865-22508865cf6c"
      },
      "outputs": [
        {
          "name": "stdout",
          "output_type": "stream",
          "text": [
            "[WinError 2] 지정된 파일을 찾을 수 없습니다: 'KoGPT2-chatbot'\n",
            "c:\\Users\\hanta\\OneDrive\\바탕 화면\\D\\SNU\\4-2\\DL\\Project\\Chatbot\\KoGPT2-chatbot\n"
          ]
        }
      ],
      "source": [
        "# 폴더 이동\n",
        "%cd KoGPT2-chatbot"
      ]
    },
    {
      "cell_type": "code",
      "execution_count": 16,
      "metadata": {},
      "outputs": [
        {
          "name": "stdout",
          "output_type": "stream",
          "text": [
            "Requirement already satisfied: pandas in c:\\users\\hanta\\anaconda3\\envs\\assignment\\lib\\site-packages (from -r requirements.txt (line 1)) (1.0.4)\n",
            "Requirement already satisfied: pytorch_lightning==1.2.10 in c:\\users\\hanta\\anaconda3\\envs\\assignment\\lib\\site-packages (from -r requirements.txt (line 2)) (1.2.10)\n",
            "Requirement already satisfied: torch in c:\\users\\hanta\\anaconda3\\envs\\assignment\\lib\\site-packages (from -r requirements.txt (line 3)) (1.13.0.dev20221001)\n",
            "Requirement already satisfied: transformers==4.5.1 in c:\\users\\hanta\\anaconda3\\envs\\assignment\\lib\\site-packages (from -r requirements.txt (line 4)) (4.5.1)\n",
            "Requirement already satisfied: tqdm>=4.41.0 in c:\\users\\hanta\\anaconda3\\envs\\assignment\\lib\\site-packages (from pytorch_lightning==1.2.10->-r requirements.txt (line 2)) (4.49.0)\n",
            "Requirement already satisfied: torchmetrics==0.2.0 in c:\\users\\hanta\\anaconda3\\envs\\assignment\\lib\\site-packages (from pytorch_lightning==1.2.10->-r requirements.txt (line 2)) (0.2.0)\n",
            "Requirement already satisfied: PyYAML!=5.4.*,>=5.1 in c:\\users\\hanta\\anaconda3\\envs\\assignment\\lib\\site-packages (from pytorch_lightning==1.2.10->-r requirements.txt (line 2)) (6.0)\n",
            "Requirement already satisfied: fsspec[http]>=0.8.1 in c:\\users\\hanta\\appdata\\roaming\\python\\python38\\site-packages (from pytorch_lightning==1.2.10->-r requirements.txt (line 2)) (2022.11.0)\n",
            "Requirement already satisfied: future>=0.17.1 in c:\\users\\hanta\\anaconda3\\envs\\assignment\\lib\\site-packages (from pytorch_lightning==1.2.10->-r requirements.txt (line 2)) (0.18.2)\n",
            "Requirement already satisfied: packaging in c:\\users\\hanta\\anaconda3\\envs\\assignment\\lib\\site-packages (from pytorch_lightning==1.2.10->-r requirements.txt (line 2)) (21.3)\n",
            "Requirement already satisfied: tensorboard!=2.5.0,>=2.2.0 in c:\\users\\hanta\\appdata\\roaming\\python\\python38\\site-packages (from pytorch_lightning==1.2.10->-r requirements.txt (line 2)) (2.11.0)\n",
            "Requirement already satisfied: numpy>=1.16.6 in c:\\users\\hanta\\anaconda3\\envs\\assignment\\lib\\site-packages (from pytorch_lightning==1.2.10->-r requirements.txt (line 2)) (1.18.5)\n",
            "Requirement already satisfied: filelock in c:\\users\\hanta\\anaconda3\\envs\\assignment\\lib\\site-packages (from transformers==4.5.1->-r requirements.txt (line 4)) (3.8.0)\n",
            "Requirement already satisfied: regex!=2019.12.17 in c:\\users\\hanta\\anaconda3\\envs\\assignment\\lib\\site-packages (from transformers==4.5.1->-r requirements.txt (line 4)) (2022.10.31)\n",
            "Requirement already satisfied: tokenizers<0.11,>=0.10.1 in c:\\users\\hanta\\anaconda3\\envs\\assignment\\lib\\site-packages (from transformers==4.5.1->-r requirements.txt (line 4)) (0.10.3)\n",
            "Requirement already satisfied: requests in c:\\users\\hanta\\anaconda3\\envs\\assignment\\lib\\site-packages (from transformers==4.5.1->-r requirements.txt (line 4)) (2.24.0)\n",
            "Requirement already satisfied: sacremoses in c:\\users\\hanta\\anaconda3\\envs\\assignment\\lib\\site-packages (from transformers==4.5.1->-r requirements.txt (line 4)) (0.0.53)\n",
            "Requirement already satisfied: pytz>=2017.2 in c:\\users\\hanta\\anaconda3\\envs\\assignment\\lib\\site-packages (from pandas->-r requirements.txt (line 1)) (2022.1)\n",
            "Requirement already satisfied: python-dateutil>=2.6.1 in c:\\users\\hanta\\anaconda3\\envs\\assignment\\lib\\site-packages (from pandas->-r requirements.txt (line 1)) (2.8.2)\n",
            "Requirement already satisfied: typing_extensions in c:\\users\\hanta\\anaconda3\\envs\\assignment\\lib\\site-packages (from torch->-r requirements.txt (line 3)) (4.3.0)\n",
            "Requirement already satisfied: aiohttp!=4.0.0a0,!=4.0.0a1 in c:\\users\\hanta\\appdata\\roaming\\python\\python38\\site-packages (from fsspec[http]>=0.8.1->pytorch_lightning==1.2.10->-r requirements.txt (line 2)) (3.8.3)\n",
            "Requirement already satisfied: six>=1.5 in c:\\users\\hanta\\anaconda3\\envs\\assignment\\lib\\site-packages (from python-dateutil>=2.6.1->pandas->-r requirements.txt (line 1)) (1.16.0)\n",
            "Requirement already satisfied: grpcio>=1.24.3 in c:\\users\\hanta\\appdata\\roaming\\python\\python38\\site-packages (from tensorboard!=2.5.0,>=2.2.0->pytorch_lightning==1.2.10->-r requirements.txt (line 2)) (1.50.0)\n",
            "Requirement already satisfied: google-auth<3,>=1.6.3 in c:\\users\\hanta\\appdata\\roaming\\python\\python38\\site-packages (from tensorboard!=2.5.0,>=2.2.0->pytorch_lightning==1.2.10->-r requirements.txt (line 2)) (2.14.1)\n",
            "Requirement already satisfied: setuptools>=41.0.0 in c:\\users\\hanta\\anaconda3\\envs\\assignment\\lib\\site-packages (from tensorboard!=2.5.0,>=2.2.0->pytorch_lightning==1.2.10->-r requirements.txt (line 2)) (65.5.0)\n",
            "Requirement already satisfied: google-auth-oauthlib<0.5,>=0.4.1 in c:\\users\\hanta\\appdata\\roaming\\python\\python38\\site-packages (from tensorboard!=2.5.0,>=2.2.0->pytorch_lightning==1.2.10->-r requirements.txt (line 2)) (0.4.6)\n",
            "Requirement already satisfied: werkzeug>=1.0.1 in c:\\users\\hanta\\appdata\\roaming\\python\\python38\\site-packages (from tensorboard!=2.5.0,>=2.2.0->pytorch_lightning==1.2.10->-r requirements.txt (line 2)) (2.2.2)\n",
            "Requirement already satisfied: markdown>=2.6.8 in c:\\users\\hanta\\appdata\\roaming\\python\\python38\\site-packages (from tensorboard!=2.5.0,>=2.2.0->pytorch_lightning==1.2.10->-r requirements.txt (line 2)) (3.4.1)\n",
            "Requirement already satisfied: protobuf<4,>=3.9.2 in c:\\users\\hanta\\appdata\\roaming\\python\\python38\\site-packages (from tensorboard!=2.5.0,>=2.2.0->pytorch_lightning==1.2.10->-r requirements.txt (line 2)) (3.20.3)\n",
            "Requirement already satisfied: absl-py>=0.4 in c:\\users\\hanta\\anaconda3\\envs\\assignment\\lib\\site-packages (from tensorboard!=2.5.0,>=2.2.0->pytorch_lightning==1.2.10->-r requirements.txt (line 2)) (1.3.0)\n",
            "Requirement already satisfied: tensorboard-plugin-wit>=1.6.0 in c:\\users\\hanta\\appdata\\roaming\\python\\python38\\site-packages (from tensorboard!=2.5.0,>=2.2.0->pytorch_lightning==1.2.10->-r requirements.txt (line 2)) (1.8.1)\n",
            "Requirement already satisfied: wheel>=0.26 in c:\\users\\hanta\\anaconda3\\envs\\assignment\\lib\\site-packages (from tensorboard!=2.5.0,>=2.2.0->pytorch_lightning==1.2.10->-r requirements.txt (line 2)) (0.37.1)\n",
            "Requirement already satisfied: tensorboard-data-server<0.7.0,>=0.6.0 in c:\\users\\hanta\\appdata\\roaming\\python\\python38\\site-packages (from tensorboard!=2.5.0,>=2.2.0->pytorch_lightning==1.2.10->-r requirements.txt (line 2)) (0.6.1)\n",
            "Requirement already satisfied: chardet<4,>=3.0.2 in c:\\users\\hanta\\anaconda3\\envs\\assignment\\lib\\site-packages (from requests->transformers==4.5.1->-r requirements.txt (line 4)) (3.0.4)\n",
            "Requirement already satisfied: certifi>=2017.4.17 in c:\\users\\hanta\\anaconda3\\envs\\assignment\\lib\\site-packages (from requests->transformers==4.5.1->-r requirements.txt (line 4)) (2022.9.24)\n",
            "Requirement already satisfied: urllib3!=1.25.0,!=1.25.1,<1.26,>=1.21.1 in c:\\users\\hanta\\anaconda3\\envs\\assignment\\lib\\site-packages (from requests->transformers==4.5.1->-r requirements.txt (line 4)) (1.25.11)\n",
            "Requirement already satisfied: idna<3,>=2.5 in c:\\users\\hanta\\anaconda3\\envs\\assignment\\lib\\site-packages (from requests->transformers==4.5.1->-r requirements.txt (line 4)) (2.10)\n",
            "Requirement already satisfied: pyparsing!=3.0.5,>=2.0.2 in c:\\users\\hanta\\anaconda3\\envs\\assignment\\lib\\site-packages (from packaging->pytorch_lightning==1.2.10->-r requirements.txt (line 2)) (3.0.9)\n",
            "Requirement already satisfied: joblib in c:\\users\\hanta\\anaconda3\\envs\\assignment\\lib\\site-packages (from sacremoses->transformers==4.5.1->-r requirements.txt (line 4)) (0.15.1)\n",
            "Requirement already satisfied: click in c:\\users\\hanta\\anaconda3\\envs\\assignment\\lib\\site-packages (from sacremoses->transformers==4.5.1->-r requirements.txt (line 4)) (8.1.3)\n",
            "Requirement already satisfied: multidict<7.0,>=4.5 in c:\\users\\hanta\\appdata\\roaming\\python\\python38\\site-packages (from aiohttp!=4.0.0a0,!=4.0.0a1->fsspec[http]>=0.8.1->pytorch_lightning==1.2.10->-r requirements.txt (line 2)) (6.0.2)\n",
            "Requirement already satisfied: frozenlist>=1.1.1 in c:\\users\\hanta\\appdata\\roaming\\python\\python38\\site-packages (from aiohttp!=4.0.0a0,!=4.0.0a1->fsspec[http]>=0.8.1->pytorch_lightning==1.2.10->-r requirements.txt (line 2)) (1.3.3)\n",
            "Requirement already satisfied: charset-normalizer<3.0,>=2.0 in c:\\users\\hanta\\anaconda3\\envs\\assignment\\lib\\site-packages (from aiohttp!=4.0.0a0,!=4.0.0a1->fsspec[http]>=0.8.1->pytorch_lightning==1.2.10->-r requirements.txt (line 2)) (2.0.4)\n",
            "Requirement already satisfied: aiosignal>=1.1.2 in c:\\users\\hanta\\appdata\\roaming\\python\\python38\\site-packages (from aiohttp!=4.0.0a0,!=4.0.0a1->fsspec[http]>=0.8.1->pytorch_lightning==1.2.10->-r requirements.txt (line 2)) (1.3.1)\n",
            "Requirement already satisfied: attrs>=17.3.0 in c:\\users\\hanta\\anaconda3\\envs\\assignment\\lib\\site-packages (from aiohttp!=4.0.0a0,!=4.0.0a1->fsspec[http]>=0.8.1->pytorch_lightning==1.2.10->-r requirements.txt (line 2)) (22.1.0)\n",
            "Requirement already satisfied: yarl<2.0,>=1.0 in c:\\users\\hanta\\appdata\\roaming\\python\\python38\\site-packages (from aiohttp!=4.0.0a0,!=4.0.0a1->fsspec[http]>=0.8.1->pytorch_lightning==1.2.10->-r requirements.txt (line 2)) (1.8.1)\n",
            "Requirement already satisfied: async-timeout<5.0,>=4.0.0a3 in c:\\users\\hanta\\appdata\\roaming\\python\\python38\\site-packages (from aiohttp!=4.0.0a0,!=4.0.0a1->fsspec[http]>=0.8.1->pytorch_lightning==1.2.10->-r requirements.txt (line 2)) (4.0.2)\n",
            "Requirement already satisfied: pyasn1-modules>=0.2.1 in c:\\users\\hanta\\appdata\\roaming\\python\\python38\\site-packages (from google-auth<3,>=1.6.3->tensorboard!=2.5.0,>=2.2.0->pytorch_lightning==1.2.10->-r requirements.txt (line 2)) (0.2.8)\n",
            "Requirement already satisfied: cachetools<6.0,>=2.0.0 in c:\\users\\hanta\\appdata\\roaming\\python\\python38\\site-packages (from google-auth<3,>=1.6.3->tensorboard!=2.5.0,>=2.2.0->pytorch_lightning==1.2.10->-r requirements.txt (line 2)) (5.2.0)\n",
            "Requirement already satisfied: rsa<5,>=3.1.4 in c:\\users\\hanta\\appdata\\roaming\\python\\python38\\site-packages (from google-auth<3,>=1.6.3->tensorboard!=2.5.0,>=2.2.0->pytorch_lightning==1.2.10->-r requirements.txt (line 2)) (4.9)\n",
            "Requirement already satisfied: requests-oauthlib>=0.7.0 in c:\\users\\hanta\\appdata\\roaming\\python\\python38\\site-packages (from google-auth-oauthlib<0.5,>=0.4.1->tensorboard!=2.5.0,>=2.2.0->pytorch_lightning==1.2.10->-r requirements.txt (line 2)) (1.3.1)\n",
            "Requirement already satisfied: importlib-metadata>=4.4 in c:\\users\\hanta\\anaconda3\\envs\\assignment\\lib\\site-packages (from markdown>=2.6.8->tensorboard!=2.5.0,>=2.2.0->pytorch_lightning==1.2.10->-r requirements.txt (line 2)) (5.0.0)\n",
            "Requirement already satisfied: MarkupSafe>=2.1.1 in c:\\users\\hanta\\anaconda3\\envs\\assignment\\lib\\site-packages (from werkzeug>=1.0.1->tensorboard!=2.5.0,>=2.2.0->pytorch_lightning==1.2.10->-r requirements.txt (line 2)) (2.1.1)\n",
            "Requirement already satisfied: colorama in c:\\users\\hanta\\anaconda3\\envs\\assignment\\lib\\site-packages (from click->sacremoses->transformers==4.5.1->-r requirements.txt (line 4)) (0.4.5)\n",
            "Requirement already satisfied: zipp>=0.5 in c:\\users\\hanta\\anaconda3\\envs\\assignment\\lib\\site-packages (from importlib-metadata>=4.4->markdown>=2.6.8->tensorboard!=2.5.0,>=2.2.0->pytorch_lightning==1.2.10->-r requirements.txt (line 2)) (3.10.0)\n",
            "Requirement already satisfied: pyasn1<0.5.0,>=0.4.6 in c:\\users\\hanta\\appdata\\roaming\\python\\python38\\site-packages (from pyasn1-modules>=0.2.1->google-auth<3,>=1.6.3->tensorboard!=2.5.0,>=2.2.0->pytorch_lightning==1.2.10->-r requirements.txt (line 2)) (0.4.8)\n",
            "Requirement already satisfied: oauthlib>=3.0.0 in c:\\users\\hanta\\appdata\\roaming\\python\\python38\\site-packages (from requests-oauthlib>=0.7.0->google-auth-oauthlib<0.5,>=0.4.1->tensorboard!=2.5.0,>=2.2.0->pytorch_lightning==1.2.10->-r requirements.txt (line 2)) (3.2.2)\n"
          ]
        }
      ],
      "source": [
        "!pip install -r requirements.txt"
      ]
    },
    {
      "cell_type": "code",
      "execution_count": 2,
      "metadata": {},
      "outputs": [
        {
          "name": "stdout",
          "output_type": "stream",
          "text": [
            "1\n",
            "True\n",
            "Device: cuda\n",
            "<module 'torch' from 'c:\\\\Users\\\\hanta\\\\anaconda3\\\\envs\\\\assignment\\\\lib\\\\site-packages\\\\torch\\\\__init__.py'>\n"
          ]
        }
      ],
      "source": [
        "import torch\n",
        "print(torch.cuda.device_count())\n",
        "print(torch.cuda.is_available())\n",
        "device = 'cuda' if torch.cuda.is_available() else 'cpu'\n",
        "print(\"Device: {}\".format(device))\n",
        "print(torch)"
      ]
    },
    {
      "cell_type": "code",
      "execution_count": 3,
      "metadata": {
        "colab": {
          "base_uri": "https://localhost:8080/",
          "height": 732
        },
        "colab_type": "code",
        "id": "xKMZv-ZsiqkB",
        "outputId": "7cf55491-8fbd-4201-a849-9616b638d3d5"
      },
      "outputs": [
        {
          "name": "stderr",
          "output_type": "stream",
          "text": [
            "'CUDA_VISIBLE_DEVICES'��(��) ���� �Ǵ� �ܺ� ����, ������ �� �ִ� ���α׷�, �Ǵ�\n",
            "��ġ ������ �ƴմϴ�.\n"
          ]
        }
      ],
      "source": [
        "# 사전훈련된 KoGPT2를 챗봇 데이터로 파인튜닝\n",
        "!CUDA_VISIBLE_DEVICES=0 python train_torch.py --train --gpus 1 --max_epochs 2"
      ]
    },
    {
      "cell_type": "code",
      "execution_count": 6,
      "metadata": {
        "colab": {
          "base_uri": "https://localhost:8080/",
          "height": 330
        },
        "colab_type": "code",
        "id": "f3yDcidi6wFA",
        "outputId": "b66e761c-3731-4f82-ce8b-411a65a7363d"
      },
      "outputs": [
        {
          "name": "stderr",
          "output_type": "stream",
          "text": [
            "'CUDA_VISIBLE_DEVICES'��(��) ���� �Ǵ� �ܺ� ����, ������ �� �ִ� ���α׷�, �Ǵ�\n",
            "��ġ ������ �ƴմϴ�.\n"
          ]
        }
      ],
      "source": [
        "# 대화 테스트, `quit`를 입력하면 대화를 종료합니다.\n",
        "!CUDA_VISIBLE_DEVICES=0 python train_torch.py --gpus 1 --chat"
      ]
    }
  ],
  "metadata": {
    "accelerator": "GPU",
    "colab": {
      "collapsed_sections": [],
      "name": "KoGPT2_chatbot_pytorch",
      "provenance": []
    },
    "kernelspec": {
      "display_name": "Python 3.8.15 ('assignment')",
      "language": "python",
      "name": "python3"
    },
    "language_info": {
      "codemirror_mode": {
        "name": "ipython",
        "version": 3
      },
      "file_extension": ".py",
      "mimetype": "text/x-python",
      "name": "python",
      "nbconvert_exporter": "python",
      "pygments_lexer": "ipython3",
      "version": "3.8.15"
    },
    "vscode": {
      "interpreter": {
        "hash": "5012461bdc6c69aedc9bfb0c625d714041a85b45672531f2c719a6d3aa901f5a"
      }
    }
  },
  "nbformat": 4,
  "nbformat_minor": 0
}
